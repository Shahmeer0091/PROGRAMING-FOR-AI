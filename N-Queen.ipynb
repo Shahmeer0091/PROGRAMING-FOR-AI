{
 "cells": [
  {
   "cell_type": "code",
   "execution_count": 26,
   "metadata": {},
   "outputs": [
    {
     "name": "stdout",
     "output_type": "stream",
     "text": [
      "[0, 1, 0, 0, 0, 0]\n",
      "[0, 0, 0, 1, 0, 0]\n",
      "[0, 0, 0, 0, 0, 1]\n",
      "[1, 0, 0, 0, 0, 0]\n",
      "[0, 0, 1, 0, 0, 0]\n",
      "[0, 0, 0, 0, 1, 0]\n",
      "\n"
     ]
    }
   ],
   "source": [
    "n=int(input(\"Enter the board size: \"))\n",
    "board=[[0 for _ in range(n)] for _ in range(n)]\n",
    "\n",
    "def check_column(board,row,column):\n",
    "    for i in range(row):\n",
    "        if board[i][column]==1:\n",
    "            return False\n",
    "    return True\n",
    "\n",
    "def check_diagonal(board,row,column,n):\n",
    "    i,j=row,column\n",
    "    while i>=0 and j>=0:\n",
    "        if board[i][j]==1:\n",
    "            return False\n",
    "        i-=1\n",
    "        j-=1\n",
    "    i,j=row,column\n",
    "    while i>=0 and j<n:\n",
    "        if board[i][j]==1:\n",
    "            return False\n",
    "        i-=1\n",
    "        j+=1\n",
    "    return True\n",
    "def nqn(board, row):\n",
    "    if row==n:\n",
    "        for b in board:\n",
    "            print(b)\n",
    "        print()\n",
    "        return True\n",
    "    for i in range(n):\n",
    "        if check_column(board,row,i) and check_diagonal(board,row,i,n):\n",
    "            board[row][i]=1\n",
    "            if nqn(board, row + 1):\n",
    "                return True\n",
    "            board[row][i]=0 \n",
    "    return False\n",
    "\n",
    "if not nqn(board, 0):\n",
    "    print(\"No solution exists.\")\n"
   ]
  }
 ],
 "metadata": {
  "kernelspec": {
   "display_name": "Python 3",
   "language": "python",
   "name": "python3"
  },
  "language_info": {
   "codemirror_mode": {
    "name": "ipython",
    "version": 3
   },
   "file_extension": ".py",
   "mimetype": "text/x-python",
   "name": "python",
   "nbconvert_exporter": "python",
   "pygments_lexer": "ipython3",
   "version": "3.11.8"
  }
 },
 "nbformat": 4,
 "nbformat_minor": 2
}
