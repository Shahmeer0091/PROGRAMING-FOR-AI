{
 "cells": [
  {
   "cell_type": "code",
   "execution_count": 1,
   "id": "4cacd827",
   "metadata": {
    "execution": {
     "iopub.execute_input": "2025-01-31T14:49:04.432316Z",
     "iopub.status.busy": "2025-01-31T14:49:04.431918Z",
     "iopub.status.idle": "2025-01-31T14:49:07.888678Z",
     "shell.execute_reply": "2025-01-31T14:49:07.887285Z"
    },
    "papermill": {
     "duration": 3.466148,
     "end_time": "2025-01-31T14:49:07.890688",
     "exception": false,
     "start_time": "2025-01-31T14:49:04.424540",
     "status": "completed"
    },
    "tags": []
   },
   "outputs": [],
   "source": [
    "import pandas as pd\n",
    "import matplotlib.pyplot as plt\n",
    "import numpy as np\n",
    "import seaborn as sns\n",
    "from sklearn.preprocessing import LabelEncoder"
   ]
  },
  {
   "cell_type": "markdown",
   "id": "4a91d2ff",
   "metadata": {
    "papermill": {
     "duration": 0.005196,
     "end_time": "2025-01-31T14:49:07.901807",
     "exception": false,
     "start_time": "2025-01-31T14:49:07.896611",
     "status": "completed"
    },
    "tags": []
   },
   "source": [
    "## Data loading"
   ]
  },
  {
   "cell_type": "code",
   "execution_count": 2,
   "id": "284c39bc",
   "metadata": {
    "execution": {
     "iopub.execute_input": "2025-01-31T14:49:07.914245Z",
     "iopub.status.busy": "2025-01-31T14:49:07.913710Z",
     "iopub.status.idle": "2025-01-31T14:49:07.975497Z",
     "shell.execute_reply": "2025-01-31T14:49:07.974347Z"
    },
    "papermill": {
     "duration": 0.070174,
     "end_time": "2025-01-31T14:49:07.977464",
     "exception": false,
     "start_time": "2025-01-31T14:49:07.907290",
     "status": "completed"
    },
    "tags": []
   },
   "outputs": [],
   "source": [
    "train=pd.read_csv('/kaggle/input/titanic-dataset/train.csv')"
   ]
  },
  {
   "cell_type": "code",
   "execution_count": 3,
   "id": "cf32036b",
   "metadata": {
    "execution": {
     "iopub.execute_input": "2025-01-31T14:49:07.990985Z",
     "iopub.status.busy": "2025-01-31T14:49:07.990629Z",
     "iopub.status.idle": "2025-01-31T14:49:08.028586Z",
     "shell.execute_reply": "2025-01-31T14:49:08.027260Z"
    },
    "papermill": {
     "duration": 0.046593,
     "end_time": "2025-01-31T14:49:08.030481",
     "exception": false,
     "start_time": "2025-01-31T14:49:07.983888",
     "status": "completed"
    },
    "tags": []
   },
   "outputs": [
    {
     "data": {
      "text/html": [
       "<div>\n",
       "<style scoped>\n",
       "    .dataframe tbody tr th:only-of-type {\n",
       "        vertical-align: middle;\n",
       "    }\n",
       "\n",
       "    .dataframe tbody tr th {\n",
       "        vertical-align: top;\n",
       "    }\n",
       "\n",
       "    .dataframe thead th {\n",
       "        text-align: right;\n",
       "    }\n",
       "</style>\n",
       "<table border=\"1\" class=\"dataframe\">\n",
       "  <thead>\n",
       "    <tr style=\"text-align: right;\">\n",
       "      <th></th>\n",
       "      <th>PassengerId</th>\n",
       "      <th>HomePlanet</th>\n",
       "      <th>CryoSleep</th>\n",
       "      <th>Cabin</th>\n",
       "      <th>Destination</th>\n",
       "      <th>Age</th>\n",
       "      <th>VIP</th>\n",
       "      <th>RoomService</th>\n",
       "      <th>FoodCourt</th>\n",
       "      <th>ShoppingMall</th>\n",
       "      <th>Spa</th>\n",
       "      <th>VRDeck</th>\n",
       "      <th>Name</th>\n",
       "      <th>Transported</th>\n",
       "    </tr>\n",
       "  </thead>\n",
       "  <tbody>\n",
       "    <tr>\n",
       "      <th>0</th>\n",
       "      <td>0001_01</td>\n",
       "      <td>Europa</td>\n",
       "      <td>False</td>\n",
       "      <td>B/0/P</td>\n",
       "      <td>TRAPPIST-1e</td>\n",
       "      <td>39.0</td>\n",
       "      <td>False</td>\n",
       "      <td>0.0</td>\n",
       "      <td>0.0</td>\n",
       "      <td>0.0</td>\n",
       "      <td>0.0</td>\n",
       "      <td>0.0</td>\n",
       "      <td>Maham Ofracculy</td>\n",
       "      <td>False</td>\n",
       "    </tr>\n",
       "    <tr>\n",
       "      <th>1</th>\n",
       "      <td>0002_01</td>\n",
       "      <td>Earth</td>\n",
       "      <td>False</td>\n",
       "      <td>F/0/S</td>\n",
       "      <td>TRAPPIST-1e</td>\n",
       "      <td>24.0</td>\n",
       "      <td>False</td>\n",
       "      <td>109.0</td>\n",
       "      <td>9.0</td>\n",
       "      <td>25.0</td>\n",
       "      <td>549.0</td>\n",
       "      <td>44.0</td>\n",
       "      <td>Juanna Vines</td>\n",
       "      <td>True</td>\n",
       "    </tr>\n",
       "    <tr>\n",
       "      <th>2</th>\n",
       "      <td>0003_01</td>\n",
       "      <td>Europa</td>\n",
       "      <td>False</td>\n",
       "      <td>A/0/S</td>\n",
       "      <td>TRAPPIST-1e</td>\n",
       "      <td>58.0</td>\n",
       "      <td>True</td>\n",
       "      <td>43.0</td>\n",
       "      <td>3576.0</td>\n",
       "      <td>0.0</td>\n",
       "      <td>6715.0</td>\n",
       "      <td>49.0</td>\n",
       "      <td>Altark Susent</td>\n",
       "      <td>False</td>\n",
       "    </tr>\n",
       "    <tr>\n",
       "      <th>3</th>\n",
       "      <td>0003_02</td>\n",
       "      <td>Europa</td>\n",
       "      <td>False</td>\n",
       "      <td>A/0/S</td>\n",
       "      <td>TRAPPIST-1e</td>\n",
       "      <td>33.0</td>\n",
       "      <td>False</td>\n",
       "      <td>0.0</td>\n",
       "      <td>1283.0</td>\n",
       "      <td>371.0</td>\n",
       "      <td>3329.0</td>\n",
       "      <td>193.0</td>\n",
       "      <td>Solam Susent</td>\n",
       "      <td>False</td>\n",
       "    </tr>\n",
       "    <tr>\n",
       "      <th>4</th>\n",
       "      <td>0004_01</td>\n",
       "      <td>Earth</td>\n",
       "      <td>False</td>\n",
       "      <td>F/1/S</td>\n",
       "      <td>TRAPPIST-1e</td>\n",
       "      <td>16.0</td>\n",
       "      <td>False</td>\n",
       "      <td>303.0</td>\n",
       "      <td>70.0</td>\n",
       "      <td>151.0</td>\n",
       "      <td>565.0</td>\n",
       "      <td>2.0</td>\n",
       "      <td>Willy Santantines</td>\n",
       "      <td>True</td>\n",
       "    </tr>\n",
       "  </tbody>\n",
       "</table>\n",
       "</div>"
      ],
      "text/plain": [
       "  PassengerId HomePlanet CryoSleep  Cabin  Destination   Age    VIP  \\\n",
       "0     0001_01     Europa     False  B/0/P  TRAPPIST-1e  39.0  False   \n",
       "1     0002_01      Earth     False  F/0/S  TRAPPIST-1e  24.0  False   \n",
       "2     0003_01     Europa     False  A/0/S  TRAPPIST-1e  58.0   True   \n",
       "3     0003_02     Europa     False  A/0/S  TRAPPIST-1e  33.0  False   \n",
       "4     0004_01      Earth     False  F/1/S  TRAPPIST-1e  16.0  False   \n",
       "\n",
       "   RoomService  FoodCourt  ShoppingMall     Spa  VRDeck               Name  \\\n",
       "0          0.0        0.0           0.0     0.0     0.0    Maham Ofracculy   \n",
       "1        109.0        9.0          25.0   549.0    44.0       Juanna Vines   \n",
       "2         43.0     3576.0           0.0  6715.0    49.0      Altark Susent   \n",
       "3          0.0     1283.0         371.0  3329.0   193.0       Solam Susent   \n",
       "4        303.0       70.0         151.0   565.0     2.0  Willy Santantines   \n",
       "\n",
       "   Transported  \n",
       "0        False  \n",
       "1         True  \n",
       "2        False  \n",
       "3        False  \n",
       "4         True  "
      ]
     },
     "execution_count": 3,
     "metadata": {},
     "output_type": "execute_result"
    }
   ],
   "source": [
    "train.head()"
   ]
  },
  {
   "cell_type": "raw",
   "id": "8d236215",
   "metadata": {
    "papermill": {
     "duration": 0.005699,
     "end_time": "2025-01-31T14:49:08.043496",
     "exception": false,
     "start_time": "2025-01-31T14:49:08.037797",
     "status": "completed"
    },
    "tags": []
   },
   "source": []
  },
  {
   "cell_type": "markdown",
   "id": "c2fe2dc8",
   "metadata": {
    "papermill": {
     "duration": 0.00567,
     "end_time": "2025-01-31T14:49:08.054951",
     "exception": false,
     "start_time": "2025-01-31T14:49:08.049281",
     "status": "completed"
    },
    "tags": []
   },
   "source": [
    "## Data Understanding"
   ]
  },
  {
   "cell_type": "code",
   "execution_count": 4,
   "id": "f4427105",
   "metadata": {
    "execution": {
     "iopub.execute_input": "2025-01-31T14:49:08.067806Z",
     "iopub.status.busy": "2025-01-31T14:49:08.067464Z",
     "iopub.status.idle": "2025-01-31T14:49:08.072467Z",
     "shell.execute_reply": "2025-01-31T14:49:08.071353Z"
    },
    "papermill": {
     "duration": 0.01359,
     "end_time": "2025-01-31T14:49:08.074367",
     "exception": false,
     "start_time": "2025-01-31T14:49:08.060777",
     "status": "completed"
    },
    "tags": []
   },
   "outputs": [],
   "source": [
    "train.columns = train.columns.str.strip()\n"
   ]
  },
  {
   "cell_type": "code",
   "execution_count": 5,
   "id": "983443d7",
   "metadata": {
    "execution": {
     "iopub.execute_input": "2025-01-31T14:49:08.087484Z",
     "iopub.status.busy": "2025-01-31T14:49:08.087068Z",
     "iopub.status.idle": "2025-01-31T14:49:08.093717Z",
     "shell.execute_reply": "2025-01-31T14:49:08.092467Z"
    },
    "papermill": {
     "duration": 0.015232,
     "end_time": "2025-01-31T14:49:08.095586",
     "exception": false,
     "start_time": "2025-01-31T14:49:08.080354",
     "status": "completed"
    },
    "tags": []
   },
   "outputs": [
    {
     "data": {
      "text/plain": [
       "Index(['PassengerId', 'HomePlanet', 'CryoSleep', 'Cabin', 'Destination', 'Age',\n",
       "       'VIP', 'RoomService', 'FoodCourt', 'ShoppingMall', 'Spa', 'VRDeck',\n",
       "       'Name', 'Transported'],\n",
       "      dtype='object')"
      ]
     },
     "execution_count": 5,
     "metadata": {},
     "output_type": "execute_result"
    }
   ],
   "source": [
    "train.columns"
   ]
  },
  {
   "cell_type": "code",
   "execution_count": 6,
   "id": "895a586a",
   "metadata": {
    "execution": {
     "iopub.execute_input": "2025-01-31T14:49:08.109146Z",
     "iopub.status.busy": "2025-01-31T14:49:08.108779Z",
     "iopub.status.idle": "2025-01-31T14:49:08.123848Z",
     "shell.execute_reply": "2025-01-31T14:49:08.122761Z"
    },
    "papermill": {
     "duration": 0.024049,
     "end_time": "2025-01-31T14:49:08.125815",
     "exception": false,
     "start_time": "2025-01-31T14:49:08.101766",
     "status": "completed"
    },
    "tags": []
   },
   "outputs": [],
   "source": [
    "\n",
    "train=train.drop(columns=['PassengerId','Name'])"
   ]
  },
  {
   "cell_type": "code",
   "execution_count": 7,
   "id": "b17565d2",
   "metadata": {
    "execution": {
     "iopub.execute_input": "2025-01-31T14:49:08.139073Z",
     "iopub.status.busy": "2025-01-31T14:49:08.138706Z",
     "iopub.status.idle": "2025-01-31T14:49:08.166817Z",
     "shell.execute_reply": "2025-01-31T14:49:08.165363Z"
    },
    "papermill": {
     "duration": 0.036875,
     "end_time": "2025-01-31T14:49:08.168712",
     "exception": false,
     "start_time": "2025-01-31T14:49:08.131837",
     "status": "completed"
    },
    "tags": []
   },
   "outputs": [
    {
     "name": "stdout",
     "output_type": "stream",
     "text": [
      "<class 'pandas.core.frame.DataFrame'>\n",
      "RangeIndex: 8693 entries, 0 to 8692\n",
      "Data columns (total 12 columns):\n",
      " #   Column        Non-Null Count  Dtype  \n",
      "---  ------        --------------  -----  \n",
      " 0   HomePlanet    8492 non-null   object \n",
      " 1   CryoSleep     8476 non-null   object \n",
      " 2   Cabin         8494 non-null   object \n",
      " 3   Destination   8511 non-null   object \n",
      " 4   Age           8514 non-null   float64\n",
      " 5   VIP           8490 non-null   object \n",
      " 6   RoomService   8512 non-null   float64\n",
      " 7   FoodCourt     8510 non-null   float64\n",
      " 8   ShoppingMall  8485 non-null   float64\n",
      " 9   Spa           8510 non-null   float64\n",
      " 10  VRDeck        8505 non-null   float64\n",
      " 11  Transported   8693 non-null   bool   \n",
      "dtypes: bool(1), float64(6), object(5)\n",
      "memory usage: 755.7+ KB\n"
     ]
    }
   ],
   "source": [
    "train.info()"
   ]
  },
  {
   "cell_type": "code",
   "execution_count": 8,
   "id": "564aaa0b",
   "metadata": {
    "execution": {
     "iopub.execute_input": "2025-01-31T14:49:08.182754Z",
     "iopub.status.busy": "2025-01-31T14:49:08.182145Z",
     "iopub.status.idle": "2025-01-31T14:49:08.193294Z",
     "shell.execute_reply": "2025-01-31T14:49:08.192216Z"
    },
    "papermill": {
     "duration": 0.019945,
     "end_time": "2025-01-31T14:49:08.194888",
     "exception": false,
     "start_time": "2025-01-31T14:49:08.174943",
     "status": "completed"
    },
    "tags": []
   },
   "outputs": [
    {
     "data": {
      "text/plain": [
       "HomePlanet      201\n",
       "CryoSleep       217\n",
       "Cabin           199\n",
       "Destination     182\n",
       "Age             179\n",
       "VIP             203\n",
       "RoomService     181\n",
       "FoodCourt       183\n",
       "ShoppingMall    208\n",
       "Spa             183\n",
       "VRDeck          188\n",
       "Transported       0\n",
       "dtype: int64"
      ]
     },
     "execution_count": 8,
     "metadata": {},
     "output_type": "execute_result"
    }
   ],
   "source": [
    "train.isnull().sum()"
   ]
  },
  {
   "cell_type": "code",
   "execution_count": 9,
   "id": "a487ebd0",
   "metadata": {
    "execution": {
     "iopub.execute_input": "2025-01-31T14:49:08.209673Z",
     "iopub.status.busy": "2025-01-31T14:49:08.209323Z",
     "iopub.status.idle": "2025-01-31T14:49:08.241850Z",
     "shell.execute_reply": "2025-01-31T14:49:08.240564Z"
    },
    "papermill": {
     "duration": 0.041575,
     "end_time": "2025-01-31T14:49:08.243811",
     "exception": false,
     "start_time": "2025-01-31T14:49:08.202236",
     "status": "completed"
    },
    "tags": []
   },
   "outputs": [
    {
     "data": {
      "text/html": [
       "<div>\n",
       "<style scoped>\n",
       "    .dataframe tbody tr th:only-of-type {\n",
       "        vertical-align: middle;\n",
       "    }\n",
       "\n",
       "    .dataframe tbody tr th {\n",
       "        vertical-align: top;\n",
       "    }\n",
       "\n",
       "    .dataframe thead th {\n",
       "        text-align: right;\n",
       "    }\n",
       "</style>\n",
       "<table border=\"1\" class=\"dataframe\">\n",
       "  <thead>\n",
       "    <tr style=\"text-align: right;\">\n",
       "      <th></th>\n",
       "      <th>Age</th>\n",
       "      <th>RoomService</th>\n",
       "      <th>FoodCourt</th>\n",
       "      <th>ShoppingMall</th>\n",
       "      <th>Spa</th>\n",
       "      <th>VRDeck</th>\n",
       "    </tr>\n",
       "  </thead>\n",
       "  <tbody>\n",
       "    <tr>\n",
       "      <th>count</th>\n",
       "      <td>8514.000000</td>\n",
       "      <td>8512.000000</td>\n",
       "      <td>8510.000000</td>\n",
       "      <td>8485.000000</td>\n",
       "      <td>8510.000000</td>\n",
       "      <td>8505.000000</td>\n",
       "    </tr>\n",
       "    <tr>\n",
       "      <th>mean</th>\n",
       "      <td>28.827930</td>\n",
       "      <td>224.687617</td>\n",
       "      <td>458.077203</td>\n",
       "      <td>173.729169</td>\n",
       "      <td>311.138778</td>\n",
       "      <td>304.854791</td>\n",
       "    </tr>\n",
       "    <tr>\n",
       "      <th>std</th>\n",
       "      <td>14.489021</td>\n",
       "      <td>666.717663</td>\n",
       "      <td>1611.489240</td>\n",
       "      <td>604.696458</td>\n",
       "      <td>1136.705535</td>\n",
       "      <td>1145.717189</td>\n",
       "    </tr>\n",
       "    <tr>\n",
       "      <th>min</th>\n",
       "      <td>0.000000</td>\n",
       "      <td>0.000000</td>\n",
       "      <td>0.000000</td>\n",
       "      <td>0.000000</td>\n",
       "      <td>0.000000</td>\n",
       "      <td>0.000000</td>\n",
       "    </tr>\n",
       "    <tr>\n",
       "      <th>25%</th>\n",
       "      <td>19.000000</td>\n",
       "      <td>0.000000</td>\n",
       "      <td>0.000000</td>\n",
       "      <td>0.000000</td>\n",
       "      <td>0.000000</td>\n",
       "      <td>0.000000</td>\n",
       "    </tr>\n",
       "    <tr>\n",
       "      <th>50%</th>\n",
       "      <td>27.000000</td>\n",
       "      <td>0.000000</td>\n",
       "      <td>0.000000</td>\n",
       "      <td>0.000000</td>\n",
       "      <td>0.000000</td>\n",
       "      <td>0.000000</td>\n",
       "    </tr>\n",
       "    <tr>\n",
       "      <th>75%</th>\n",
       "      <td>38.000000</td>\n",
       "      <td>47.000000</td>\n",
       "      <td>76.000000</td>\n",
       "      <td>27.000000</td>\n",
       "      <td>59.000000</td>\n",
       "      <td>46.000000</td>\n",
       "    </tr>\n",
       "    <tr>\n",
       "      <th>max</th>\n",
       "      <td>79.000000</td>\n",
       "      <td>14327.000000</td>\n",
       "      <td>29813.000000</td>\n",
       "      <td>23492.000000</td>\n",
       "      <td>22408.000000</td>\n",
       "      <td>24133.000000</td>\n",
       "    </tr>\n",
       "  </tbody>\n",
       "</table>\n",
       "</div>"
      ],
      "text/plain": [
       "               Age   RoomService     FoodCourt  ShoppingMall           Spa  \\\n",
       "count  8514.000000   8512.000000   8510.000000   8485.000000   8510.000000   \n",
       "mean     28.827930    224.687617    458.077203    173.729169    311.138778   \n",
       "std      14.489021    666.717663   1611.489240    604.696458   1136.705535   \n",
       "min       0.000000      0.000000      0.000000      0.000000      0.000000   \n",
       "25%      19.000000      0.000000      0.000000      0.000000      0.000000   \n",
       "50%      27.000000      0.000000      0.000000      0.000000      0.000000   \n",
       "75%      38.000000     47.000000     76.000000     27.000000     59.000000   \n",
       "max      79.000000  14327.000000  29813.000000  23492.000000  22408.000000   \n",
       "\n",
       "             VRDeck  \n",
       "count   8505.000000  \n",
       "mean     304.854791  \n",
       "std     1145.717189  \n",
       "min        0.000000  \n",
       "25%        0.000000  \n",
       "50%        0.000000  \n",
       "75%       46.000000  \n",
       "max    24133.000000  "
      ]
     },
     "execution_count": 9,
     "metadata": {},
     "output_type": "execute_result"
    }
   ],
   "source": [
    "train.describe()"
   ]
  },
  {
   "cell_type": "code",
   "execution_count": 10,
   "id": "f2b23279",
   "metadata": {
    "execution": {
     "iopub.execute_input": "2025-01-31T14:49:08.258102Z",
     "iopub.status.busy": "2025-01-31T14:49:08.257709Z",
     "iopub.status.idle": "2025-01-31T14:49:08.738849Z",
     "shell.execute_reply": "2025-01-31T14:49:08.737708Z"
    },
    "papermill": {
     "duration": 0.490498,
     "end_time": "2025-01-31T14:49:08.740830",
     "exception": false,
     "start_time": "2025-01-31T14:49:08.250332",
     "status": "completed"
    },
    "tags": []
   },
   "outputs": [
    {
     "name": "stderr",
     "output_type": "stream",
     "text": [
      "/usr/local/lib/python3.10/dist-packages/seaborn/_oldcore.py:1119: FutureWarning: use_inf_as_na option is deprecated and will be removed in a future version. Convert inf values to NaN before operating instead.\n",
      "  with pd.option_context('mode.use_inf_as_na', True):\n"
     ]
    },
    {
     "data": {
      "image/png": "[encoded data removed]",
      "text/plain": [
       "<Figure size 1000x600 with 1 Axes>"
      ]
     },
     "metadata": {},
     "output_type": "display_data"
    }
   ],
   "source": [
    "# Visualize the distribution of Age\n",
    "plt.figure(figsize=(10, 6))\n",
    "sns.histplot(train['Age'], kde=True, bins=30, color='skyblue')\n",
    "plt.title('Age Distribution of Passengers')\n",
    "plt.xlabel('Age')\n",
    "plt.ylabel('Frequency')\n",
    "plt.show()"
   ]
  },
  {
   "cell_type": "code",
   "execution_count": 11,
   "id": "e5141b7e",
   "metadata": {
    "execution": {
     "iopub.execute_input": "2025-01-31T14:49:08.757296Z",
     "iopub.status.busy": "2025-01-31T14:49:08.756859Z",
     "iopub.status.idle": "2025-01-31T14:49:08.989849Z",
     "shell.execute_reply": "2025-01-31T14:49:08.988678Z"
    },
    "papermill": {
     "duration": 0.243148,
     "end_time": "2025-01-31T14:49:08.991695",
     "exception": false,
     "start_time": "2025-01-31T14:49:08.748547",
     "status": "completed"
    },
    "tags": []
   },
   "outputs": [
    {
     "data": {
      "image/png": "[encoded data removed]",
      "text/plain": [
       "<Figure size 800x500 with 1 Axes>"
      ]
     },
     "metadata": {},
     "output_type": "display_data"
    }
   ],
   "source": [
    "plt.figure(figsize=(8, 5))\n",
    "sns.countplot(x='CryoSleep', hue='Transported', data=train, palette='muted')\n",
    "plt.title('CryoSleep vs Transported')\n",
    "plt.xlabel('CryoSleep (Yes/No)')\n",
    "plt.ylabel('Count')\n",
    "plt.show()"
   ]
  },
  {
   "cell_type": "markdown",
   "id": "99399e24",
   "metadata": {
    "papermill": {
     "duration": 0.007811,
     "end_time": "2025-01-31T14:49:09.007744",
     "exception": false,
     "start_time": "2025-01-31T14:49:08.999933",
     "status": "completed"
    },
    "tags": []
   },
   "source": [
    "## Encoding"
   ]
  },
  {
   "cell_type": "code",
   "execution_count": 12,
   "id": "4984e2e4",
   "metadata": {
    "execution": {
     "iopub.execute_input": "2025-01-31T14:49:09.026520Z",
     "iopub.status.busy": "2025-01-31T14:49:09.026089Z",
     "iopub.status.idle": "2025-01-31T14:49:09.045928Z",
     "shell.execute_reply": "2025-01-31T14:49:09.044722Z"
    },
    "papermill": {
     "duration": 0.031514,
     "end_time": "2025-01-31T14:49:09.047989",
     "exception": false,
     "start_time": "2025-01-31T14:49:09.016475",
     "status": "completed"
    },
    "tags": []
   },
   "outputs": [
    {
     "name": "stderr",
     "output_type": "stream",
     "text": [
      "<ipython-input-12-a668a68812cc>:5: FutureWarning: A value is trying to be set on a copy of a DataFrame or Series through chained assignment using an inplace method.\n",
      "The behavior will change in pandas 3.0. This inplace method will never work because the intermediate object on which we are setting values always behaves as a copy.\n",
      "\n",
      "For example, when doing 'df[col].method(value, inplace=True)', try using 'df.method({col: value}, inplace=True)' or df[col] = df[col].method(value) instead, to perform the operation inplace on the original object.\n",
      "\n",
      "\n",
      "  train[col].fillna(train[col].mode()[0], inplace=True)\n",
      "<ipython-input-12-a668a68812cc>:5: FutureWarning: Downcasting object dtype arrays on .fillna, .ffill, .bfill is deprecated and will change in a future version. Call result.infer_objects(copy=False) instead. To opt-in to the future behavior, set `pd.set_option('future.no_silent_downcasting', True)`\n",
      "  train[col].fillna(train[col].mode()[0], inplace=True)\n",
      "<ipython-input-12-a668a68812cc>:8: FutureWarning: A value is trying to be set on a copy of a DataFrame or Series through chained assignment using an inplace method.\n",
      "The behavior will change in pandas 3.0. This inplace method will never work because the intermediate object on which we are setting values always behaves as a copy.\n",
      "\n",
      "For example, when doing 'df[col].method(value, inplace=True)', try using 'df.method({col: value}, inplace=True)' or df[col] = df[col].method(value) instead, to perform the operation inplace on the original object.\n",
      "\n",
      "\n",
      "  train[col].fillna(train[col].median(), inplace=True)\n",
      "<ipython-input-12-a668a68812cc>:11: FutureWarning: A value is trying to be set on a copy of a DataFrame or Series through chained assignment using an inplace method.\n",
      "The behavior will change in pandas 3.0. This inplace method will never work because the intermediate object on which we are setting values always behaves as a copy.\n",
      "\n",
      "For example, when doing 'df[col].method(value, inplace=True)', try using 'df.method({col: value}, inplace=True)' or df[col] = df[col].method(value) instead, to perform the operation inplace on the original object.\n",
      "\n",
      "\n",
      "  train['Cabin'].fillna('Unknown', inplace=True)\n"
     ]
    }
   ],
   "source": [
    "categorical_columns = ['HomePlanet', 'Destination', 'CryoSleep', 'VIP']\n",
    "numerical_columns = ['Age', 'RoomService', 'FoodCourt', 'ShoppingMall', 'Spa', 'VRDeck']\n",
    "other_columns = ['Cabin']\n",
    "for col in categorical_columns:\n",
    "    train[col].fillna(train[col].mode()[0], inplace=True)\n",
    "\n",
    "for col in numerical_columns:\n",
    "    train[col].fillna(train[col].median(), inplace=True)\n",
    "    \n",
    "\n",
    "train['Cabin'].fillna('Unknown', inplace=True)"
   ]
  },
  {
   "cell_type": "code",
   "execution_count": 13,
   "id": "253cb54e",
   "metadata": {
    "execution": {
     "iopub.execute_input": "2025-01-31T14:49:09.065965Z",
     "iopub.status.busy": "2025-01-31T14:49:09.065572Z",
     "iopub.status.idle": "2025-01-31T14:49:09.078560Z",
     "shell.execute_reply": "2025-01-31T14:49:09.077326Z"
    },
    "papermill": {
     "duration": 0.024019,
     "end_time": "2025-01-31T14:49:09.080492",
     "exception": false,
     "start_time": "2025-01-31T14:49:09.056473",
     "status": "completed"
    },
    "tags": []
   },
   "outputs": [
    {
     "name": "stdout",
     "output_type": "stream",
     "text": [
      "<class 'pandas.core.frame.DataFrame'>\n",
      "RangeIndex: 8693 entries, 0 to 8692\n",
      "Data columns (total 12 columns):\n",
      " #   Column        Non-Null Count  Dtype  \n",
      "---  ------        --------------  -----  \n",
      " 0   HomePlanet    8693 non-null   object \n",
      " 1   CryoSleep     8693 non-null   bool   \n",
      " 2   Cabin         8693 non-null   object \n",
      " 3   Destination   8693 non-null   object \n",
      " 4   Age           8693 non-null   float64\n",
      " 5   VIP           8693 non-null   bool   \n",
      " 6   RoomService   8693 non-null   float64\n",
      " 7   FoodCourt     8693 non-null   float64\n",
      " 8   ShoppingMall  8693 non-null   float64\n",
      " 9   Spa           8693 non-null   float64\n",
      " 10  VRDeck        8693 non-null   float64\n",
      " 11  Transported   8693 non-null   bool   \n",
      "dtypes: bool(3), float64(6), object(3)\n",
      "memory usage: 636.8+ KB\n"
     ]
    }
   ],
   "source": [
    "train.info()"
   ]
  },
  {
   "cell_type": "code",
   "execution_count": 14,
   "id": "baa8ca92",
   "metadata": {
    "execution": {
     "iopub.execute_input": "2025-01-31T14:49:09.098507Z",
     "iopub.status.busy": "2025-01-31T14:49:09.098111Z",
     "iopub.status.idle": "2025-01-31T14:49:09.272174Z",
     "shell.execute_reply": "2025-01-31T14:49:09.270865Z"
    },
    "papermill": {
     "duration": 0.185359,
     "end_time": "2025-01-31T14:49:09.274345",
     "exception": false,
     "start_time": "2025-01-31T14:49:09.088986",
     "status": "completed"
    },
    "tags": []
   },
   "outputs": [
    {
     "data": {
      "image/png": "[encoded data removed]",
      "text/plain": [
       "<Figure size 800x500 with 1 Axes>"
      ]
     },
     "metadata": {},
     "output_type": "display_data"
    }
   ],
   "source": [
    "plt.figure(figsize=(8, 5))\n",
    "sns.countplot(x='Transported', data=train, palette='pastel')\n",
    "plt.title('Transported vs Not Transported')\n",
    "plt.xlabel('Transported')\n",
    "plt.ylabel('Count')\n",
    "plt.show()"
   ]
  },
  {
   "cell_type": "code",
   "execution_count": 15,
   "id": "52cee25e",
   "metadata": {
    "execution": {
     "iopub.execute_input": "2025-01-31T14:49:09.295426Z",
     "iopub.status.busy": "2025-01-31T14:49:09.294908Z",
     "iopub.status.idle": "2025-01-31T14:49:09.311110Z",
     "shell.execute_reply": "2025-01-31T14:49:09.310032Z"
    },
    "papermill": {
     "duration": 0.03027,
     "end_time": "2025-01-31T14:49:09.313841",
     "exception": false,
     "start_time": "2025-01-31T14:49:09.283571",
     "status": "completed"
    },
    "tags": []
   },
   "outputs": [],
   "source": [
    "train['CryoSleep'] = train['CryoSleep'].astype(int)\n",
    "train['VIP'] = train['VIP'].astype(int)\n",
    "\n",
    "# One-Hot Encoding for 'HomePlanet' and 'Destination'\n",
    "train = pd.get_dummies(train, columns=['HomePlanet', 'Destination'], drop_first=True)"
   ]
  },
  {
   "cell_type": "code",
   "execution_count": 16,
   "id": "509c1bea",
   "metadata": {
    "execution": {
     "iopub.execute_input": "2025-01-31T14:49:09.339863Z",
     "iopub.status.busy": "2025-01-31T14:49:09.339367Z",
     "iopub.status.idle": "2025-01-31T14:49:09.362541Z",
     "shell.execute_reply": "2025-01-31T14:49:09.361268Z"
    },
    "papermill": {
     "duration": 0.039942,
     "end_time": "2025-01-31T14:49:09.364772",
     "exception": false,
     "start_time": "2025-01-31T14:49:09.324830",
     "status": "completed"
    },
    "tags": []
   },
   "outputs": [],
   "source": [
    "from sklearn.preprocessing import LabelEncoder\n",
    "\n",
    "label_encoder = LabelEncoder()\n",
    "\n",
    "# Fit the label encoder on the 'Cabin' column of the train data\n",
    "train['Cabin'] = label_encoder.fit_transform(train['Cabin'])\n"
   ]
  },
  {
   "cell_type": "code",
   "execution_count": 17,
   "id": "e35c5a8e",
   "metadata": {
    "execution": {
     "iopub.execute_input": "2025-01-31T14:49:09.389849Z",
     "iopub.status.busy": "2025-01-31T14:49:09.389455Z",
     "iopub.status.idle": "2025-01-31T14:49:09.557530Z",
     "shell.execute_reply": "2025-01-31T14:49:09.555817Z"
    },
    "papermill": {
     "duration": 0.181729,
     "end_time": "2025-01-31T14:49:09.559388",
     "exception": true,
     "start_time": "2025-01-31T14:49:09.377659",
     "status": "failed"
    },
    "tags": []
   },
   "outputs": [
    {
     "ename": "NameError",
     "evalue": "name 'amenities' is not defined",
     "output_type": "error",
     "traceback": [
      "\u001b[0;31m---------------------------------------------------------------------------\u001b[0m",
      "\u001b[0;31mNameError\u001b[0m                                 Traceback (most recent call last)",
      "\u001b[0;32m<ipython-input-17-ec27142d266f>\u001b[0m in \u001b[0;36m<cell line: 1>\u001b[0;34m()\u001b[0m\n\u001b[0;32m----> 1\u001b[0;31m \u001b[0mcorrelation\u001b[0m \u001b[0;34m=\u001b[0m \u001b[0mtrain\u001b[0m\u001b[0;34m[\u001b[0m\u001b[0mamenities\u001b[0m \u001b[0;34m+\u001b[0m \u001b[0;34m[\u001b[0m\u001b[0;34m'Age'\u001b[0m\u001b[0;34m,\u001b[0m \u001b[0;34m'RoomService'\u001b[0m\u001b[0;34m,\u001b[0m \u001b[0;34m'FoodCourt'\u001b[0m\u001b[0;34m,\u001b[0m \u001b[0;34m'ShoppingMall'\u001b[0m\u001b[0;34m,\u001b[0m \u001b[0;34m'Spa'\u001b[0m\u001b[0;34m,\u001b[0m \u001b[0;34m'VRDeck'\u001b[0m\u001b[0;34m]\u001b[0m\u001b[0;34m]\u001b[0m\u001b[0;34m.\u001b[0m\u001b[0mcorr\u001b[0m\u001b[0;34m(\u001b[0m\u001b[0;34m)\u001b[0m\u001b[0;34m\u001b[0m\u001b[0;34m\u001b[0m\u001b[0m\n\u001b[0m\u001b[1;32m      2\u001b[0m \u001b[0mplt\u001b[0m\u001b[0;34m.\u001b[0m\u001b[0mfigure\u001b[0m\u001b[0;34m(\u001b[0m\u001b[0mfigsize\u001b[0m\u001b[0;34m=\u001b[0m\u001b[0;34m(\u001b[0m\u001b[0;36m12\u001b[0m\u001b[0;34m,\u001b[0m \u001b[0;36m8\u001b[0m\u001b[0;34m)\u001b[0m\u001b[0;34m)\u001b[0m\u001b[0;34m\u001b[0m\u001b[0;34m\u001b[0m\u001b[0m\n\u001b[1;32m      3\u001b[0m \u001b[0msns\u001b[0m\u001b[0;34m.\u001b[0m\u001b[0mheatmap\u001b[0m\u001b[0;34m(\u001b[0m\u001b[0mcorrelation\u001b[0m\u001b[0;34m,\u001b[0m \u001b[0mannot\u001b[0m\u001b[0;34m=\u001b[0m\u001b[0;32mTrue\u001b[0m\u001b[0;34m,\u001b[0m \u001b[0mcmap\u001b[0m\u001b[0;34m=\u001b[0m\u001b[0;34m'coolwarm'\u001b[0m\u001b[0;34m,\u001b[0m \u001b[0mfmt\u001b[0m\u001b[0;34m=\u001b[0m\u001b[0;34m'.2f'\u001b[0m\u001b[0;34m)\u001b[0m\u001b[0;34m\u001b[0m\u001b[0;34m\u001b[0m\u001b[0m\n\u001b[1;32m      4\u001b[0m \u001b[0mplt\u001b[0m\u001b[0;34m.\u001b[0m\u001b[0mtitle\u001b[0m\u001b[0;34m(\u001b[0m\u001b[0;34m'Correlation Heatmap'\u001b[0m\u001b[0;34m)\u001b[0m\u001b[0;34m\u001b[0m\u001b[0;34m\u001b[0m\u001b[0m\n\u001b[1;32m      5\u001b[0m \u001b[0mplt\u001b[0m\u001b[0;34m.\u001b[0m\u001b[0mshow\u001b[0m\u001b[0;34m(\u001b[0m\u001b[0;34m)\u001b[0m\u001b[0;34m\u001b[0m\u001b[0;34m\u001b[0m\u001b[0m\n",
      "\u001b[0;31mNameError\u001b[0m: name 'amenities' is not defined"
     ]
    }
   ],
   "source": [
    "correlation = train[amenities + ['Age', 'RoomService', 'FoodCourt', 'ShoppingMall', 'Spa', 'VRDeck']].corr()\n",
    "plt.figure(figsize=(12, 8))\n",
    "sns.heatmap(correlation, annot=True, cmap='coolwarm', fmt='.2f')\n",
    "plt.title('Correlation Heatmap')\n",
    "plt.show()\n"
   ]
  },
  {
   "cell_type": "markdown",
   "id": "02e1feb5",
   "metadata": {
    "papermill": {
     "duration": null,
     "end_time": null,
     "exception": null,
     "start_time": null,
     "status": "pending"
    },
    "tags": []
   },
   "source": [
    "# Model"
   ]
  },
  {
   "cell_type": "code",
   "execution_count": null,
   "id": "86160e65",
   "metadata": {
    "execution": {
     "iopub.execute_input": "2025-01-31T14:44:23.745634Z",
     "iopub.status.busy": "2025-01-31T14:44:23.745259Z",
     "iopub.status.idle": "2025-01-31T14:44:23.752369Z",
     "shell.execute_reply": "2025-01-31T14:44:23.751186Z",
     "shell.execute_reply.started": "2025-01-31T14:44:23.745603Z"
    },
    "papermill": {
     "duration": null,
     "end_time": null,
     "exception": null,
     "start_time": null,
     "status": "pending"
    },
    "tags": []
   },
   "outputs": [],
   "source": [
    "X_train = train.drop(columns=['Transported'])\n",
    "y_train = train['Transported']\n",
    "\n"
   ]
  },
  {
   "cell_type": "code",
   "execution_count": null,
   "id": "c704d152",
   "metadata": {
    "execution": {
     "iopub.execute_input": "2025-01-31T14:44:26.250456Z",
     "iopub.status.busy": "2025-01-31T14:44:26.250081Z",
     "iopub.status.idle": "2025-01-31T14:44:26.262814Z",
     "shell.execute_reply": "2025-01-31T14:44:26.261446Z",
     "shell.execute_reply.started": "2025-01-31T14:44:26.250428Z"
    },
    "papermill": {
     "duration": null,
     "end_time": null,
     "exception": null,
     "start_time": null,
     "status": "pending"
    },
    "tags": []
   },
   "outputs": [],
   "source": [
    "from sklearn.model_selection import train_test_split\n",
    "\n",
    "# Split the data into training (70%) and validation (30%)\n",
    "X_train_split, X_val_split, y_train_split, y_val_split = train_test_split(\n",
    "    X_train, y_train, test_size=0.3, random_state=42\n",
    ")\n",
    "\n",
    "print(\"Training data size:\", len(X_train_split))\n",
    "print(\"Validation data size:\", len(X_val_split))\n"
   ]
  },
  {
   "cell_type": "code",
   "execution_count": null,
   "id": "12af9c90",
   "metadata": {
    "execution": {
     "iopub.execute_input": "2025-01-31T14:44:26.648136Z",
     "iopub.status.busy": "2025-01-31T14:44:26.647759Z",
     "iopub.status.idle": "2025-01-31T14:44:27.579705Z",
     "shell.execute_reply": "2025-01-31T14:44:27.578311Z",
     "shell.execute_reply.started": "2025-01-31T14:44:26.648098Z"
    },
    "papermill": {
     "duration": null,
     "end_time": null,
     "exception": null,
     "start_time": null,
     "status": "pending"
    },
    "tags": []
   },
   "outputs": [],
   "source": [
    "from sklearn.ensemble import RandomForestClassifier\n",
    "from sklearn.metrics import accuracy_score, classification_report\n",
    "\n",
    "# Initialize the Random Forest Classifier\n",
    "rf_model = RandomForestClassifier(n_estimators=100, random_state=42)\n",
    "\n",
    "# Train the model on 70% of the data\n",
    "rf_model.fit(X_train_split, y_train_split)\n",
    "\n",
    "# Make predictions on the 30% validation data\n",
    "y_pred = rf_model.predict(X_val_split)\n",
    "\n",
    "# Evaluate the model\n",
    "print(\"Accuracy on Validation Set:\", accuracy_score(y_val_split, y_pred))\n",
    "print(\"Classification Report:\\n\", classification_report(y_val_split, y_pred))\n"
   ]
  },
  {
   "cell_type": "code",
   "execution_count": null,
   "id": "7586b863",
   "metadata": {
    "papermill": {
     "duration": null,
     "end_time": null,
     "exception": null,
     "start_time": null,
     "status": "pending"
    },
    "tags": []
   },
   "outputs": [],
   "source": []
  }
 ],
 "metadata": {
  "kaggle": {
   "accelerator": "none",
   "dataSources": [
    {
     "datasetId": 6580208,
     "sourceId": 10627733,
     "sourceType": "datasetVersion"
    }
   ],
   "dockerImageVersionId": 30839,
   "isGpuEnabled": false,
   "isInternetEnabled": true,
   "language": "python",
   "sourceType": "notebook"
  },
  "kernelspec": {
   "display_name": "Python 3",
   "language": "python",
   "name": "python3"
  },
  "language_info": {
   "codemirror_mode": {
    "name": "ipython",
    "version": 3
   },
   "file_extension": ".py",
   "mimetype": "text/x-python",
   "name": "python",
   "nbconvert_exporter": "python",
   "pygments_lexer": "ipython3",
   "version": "3.10.12"
  },
  "papermill": {
   "default_parameters": {},
   "duration": 8.967926,
   "end_time": "2025-01-31T14:49:10.289084",
   "environment_variables": {},
   "exception": true,
   "input_path": "__notebook__.ipynb",
   "output_path": "__notebook__.ipynb",
   "parameters": {},
   "start_time": "2025-01-31T14:49:01.321158",
   "version": "2.6.0"
  }
 },
 "nbformat": 4,
 "nbformat_minor": 5
}
