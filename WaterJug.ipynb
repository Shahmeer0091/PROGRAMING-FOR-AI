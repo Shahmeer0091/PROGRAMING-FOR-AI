{
 "cells": [
  {
   "cell_type": "code",
   "execution_count": 5,
   "metadata": {},
   "outputs": [
    {
     "name": "stdout",
     "output_type": "stream",
     "text": [
      "Goal is 5\n",
      "Jug1: 0, Jug2: 0\n",
      "Jug1: 0, Jug2: 7\n",
      "Jug1: 3, Jug2: 4\n",
      "Jug1: 3, Jug2: 0\n",
      "Jug1: 0, Jug2: 3\n",
      "Jug1: 3, Jug2: 3\n",
      "Jug1: 0, Jug2: 6\n",
      "Jug1: 3, Jug2: 6\n",
      "Jug1: 2, Jug2: 7\n",
      "Jug1: 2, Jug2: 0\n",
      "Jug1: 0, Jug2: 2\n",
      "Jug1: 3, Jug2: 2\n",
      "Jug1: 0, Jug2: 5\n",
      "Goal reached!\n"
     ]
    }
   ],
   "source": [
    "jug1=int(input(\"Enter Capacity of Jug 1: \"))\n",
    "jug2=int(input(\"Enter Capacity of Jug 2: \"))\n",
    "goal=int(input('Enter Target: '))\n",
    "print(f'Goal is {goal}')\n",
    "\n",
    "def dfs(stack,visited):\n",
    "    while stack:\n",
    "        x,y=stack.pop()\n",
    "        if (x,y) in visited:\n",
    "            continue\n",
    "        visited.add((x,y))\n",
    "        print(f\"Jug1: {x}, Jug2: {y}\")\n",
    "        if x==goal or y==goal:\n",
    "            print(\"Goal reached!\")\n",
    "            return\n",
    "        if x<jug1:\n",
    "            stack.append((jug1,y)) \n",
    "        if y<jug2:\n",
    "            stack.append((x,jug2)) \n",
    "        if x>0:\n",
    "            stack.append((0,y)) \n",
    "        if y>0:\n",
    "            stack.append((x,0)) \n",
    "        if x>0 and y<jug2:\n",
    "            transfer=min(x, jug2 - y)\n",
    "            stack.append((x-transfer,y+transfer))\n",
    "        if y>0 and x<jug1:\n",
    "            transfer=min(y, jug1 - x)\n",
    "            stack.append((x+transfer,y-transfer))  \n",
    "    \n",
    "    print(\"No solution found\")\n",
    "    return False\n",
    "\n",
    "initial_state=(0, 0)\n",
    "stack=[initial_state]\n",
    "visited=set()\n",
    "dfs(stack, visited)\n"
   ]
  },
  {
   "cell_type": "code",
   "execution_count": null,
   "metadata": {},
   "outputs": [],
   "source": []
  }
 ],
 "metadata": {
  "kernelspec": {
   "display_name": "Python 3",
   "language": "python",
   "name": "python3"
  },
  "language_info": {
   "codemirror_mode": {
    "name": "ipython",
    "version": 3
   },
   "file_extension": ".py",
   "mimetype": "text/x-python",
   "name": "python",
   "nbconvert_exporter": "python",
   "pygments_lexer": "ipython3",
   "version": "3.11.8"
  }
 },
 "nbformat": 4,
 "nbformat_minor": 2
}
